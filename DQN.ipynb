{
 "cells": [
  {
   "cell_type": "code",
   "execution_count": null,
   "id": "13703727",
   "metadata": {},
   "outputs": [],
   "source": [
    "import random\n",
    "import gym\n",
    "import numpy as np\n",
    "from tensorflow.keras.models import Sequential\n",
    "from tensorflow.keras.layers import Dense, Flatten\n",
    "from tensorflow.keras.optimizers import Adam\n",
    "from rl.agents import DQNAgent\n",
    "from rl.policy import BoltzmannQPolicy\n",
    "from rl.memory import SequentialMemory\n",
    "\n",
    "\n",
    "\n",
    "env = gym.make('CartPole-v0')\n",
    "states = env.observation_space.shape[0]\n",
    "actions = env.action_space.n\n",
    "\n",
    "\n",
    "episodes = 10\n",
    "\n",
    "# for episode in range(1, episodes + 1):\n",
    "#     state = env.reset()\n",
    "#     done = False\n",
    "#     score = 0\n",
    "    \n",
    "#     while not done:\n",
    "#         env.render()\n",
    "#         action = random.choice([0,1])\n",
    "#         n_state, reward, info, done = env.step(action)\n",
    "#         score += reward\n",
    "#     print('Episodes:{}  Score:{}'.format(episode, score))\n",
    "    \n",
    "    \n",
    "def build_model(states, actions):                               # function for building model\n",
    "    model = Sequential()\n",
    "    model.add(Flatten(input_shape = (1, states)))\n",
    "    model.add(Dense(24, activation = 'relu'))\n",
    "    model.add(Dense(24, activation = 'relu'))\n",
    "    model.add(Dense(actions, activation = 'linear'))\n",
    "    \n",
    "    return model\n",
    "\n",
    "model = build_model(states, actions)\n",
    "\n",
    "\n",
    "def build_agent(model, actions):                        # function for building agent\n",
    "    policy = BoltzmannQPolicy()\n",
    "    memory = SequentialMemory(limit = 500, window_length = 1)\n",
    "    dqn = DQNAgent(model = model, memory = memory, policy = policy, nb_actions = actions\n",
    "                    , nb_steps_warmup = 10, target_model_update = 1e-2)\n",
    "    \n",
    "    return dqn\n",
    "    \n",
    "    \n",
    "dqn = build_agent(model, actions)                               # making instance of agent\n",
    "dqn.compile(Adam(lr = 1e-3), metrics = ['mae'])                     # setting metrics for training\n",
    "dqn.fit(env, nb_steps = 500, visualize = False, verbose = 1)      # training\n",
    "\n",
    "scores = dqn.test(env, nb_episodes = 10, visualize = False)        # testing on trained model\n",
    "print(np.mean(scores.history['episode_reward']))                    # visualizing scores\n",
    "\n",
    "_ = dqn.test(env, nb_episodes = 5, visualize = True)               # rendering the environment\n",
    "\n",
    "\n",
    "dqn.save_weights('dqn_weights.hf5', overwrite = True)           # saving model weights\n",
    "    \n",
    "    \n",
    "    "
   ]
  },
  {
   "cell_type": "code",
   "execution_count": null,
   "id": "b1efb5a5",
   "metadata": {},
   "outputs": [],
   "source": [
    "# deleting model and loading weights from memory\n",
    "\n",
    "del model \n",
    "del dqn\n",
    "del env\n"
   ]
  },
  {
   "cell_type": "code",
   "execution_count": null,
   "id": "a10fbbdf",
   "metadata": {},
   "outputs": [],
   "source": [
    "\n",
    "# model deleted, now being reloaded from memory\n",
    "\n",
    "\n",
    "env = gym.make('CartPole-v0')                           # making environment\n",
    "states = env.observation_space.shape[0]                 # number of states\n",
    "actions = env.action_space.n                            # number of actions\n",
    "model = build_model(states, actions)                    # building model\n",
    "dqn = build_agent(model, actions)                       # building agent\n",
    "dqn.compile(Adam(lr = 1e-3), metrics = ['mae'])         # setting metrics"
   ]
  },
  {
   "cell_type": "code",
   "execution_count": null,
   "id": "0a718540",
   "metadata": {},
   "outputs": [],
   "source": [
    "dqn.load_weights('dqn_weights.h5f')                             # loading weights from pre trained model"
   ]
  },
  {
   "cell_type": "code",
   "execution_count": null,
   "id": "95b318ce",
   "metadata": {},
   "outputs": [],
   "source": [
    "_ = dqn.test(env, nb_episodes = 5, visualize = True)    # testing"
   ]
  },
  {
   "cell_type": "code",
   "execution_count": null,
   "id": "660e914a",
   "metadata": {},
   "outputs": [],
   "source": []
  }
 ],
 "metadata": {
  "kernelspec": {
   "display_name": "Python 3",
   "language": "python",
   "name": "python3"
  },
  "language_info": {
   "codemirror_mode": {
    "name": "ipython",
    "version": 3
   },
   "file_extension": ".py",
   "mimetype": "text/x-python",
   "name": "python",
   "nbconvert_exporter": "python",
   "pygments_lexer": "ipython3",
   "version": "3.8.8"
  }
 },
 "nbformat": 4,
 "nbformat_minor": 5
}
